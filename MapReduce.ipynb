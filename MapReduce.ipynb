{
 "cells": [
  {
   "cell_type": "code",
   "execution_count": 12,
   "metadata": {},
   "outputs": [
    {
     "name": "stdout",
     "output_type": "stream",
     "text": [
      "Data has been mapped. Now, run reducer.py to reduce the contents in shuffled.pkl file.\n"
     ]
    }
   ],
   "source": [
    "import pandas as pd\n",
    "import pickle\n",
    "\n",
    "data = pd.read_csv('data.csv')\n",
    "\n",
    "#Slicing Data\n",
    "slice1 = data.iloc[0:399,:]\n",
    "slice2 = data.iloc[400:800,:]\n",
    "slice3 = data.iloc[801:1200,:]\n",
    "slice4 = data.iloc[1201:,:]\n",
    "\n",
    "def mapper(data):\n",
    "    \n",
    "    mapped = []\n",
    "    \n",
    "    for index,row in data.iterrows():\n",
    "        \n",
    "        mapped.append((row['quality'],row['volatile acidity']))\n",
    "        \n",
    "    return mapped\n",
    "\n",
    "\n",
    "map1 = mapper(slice1)\n",
    "map2 = mapper(slice2)\n",
    "map3 = mapper(slice3)\n",
    "map4 = mapper(slice4)\n",
    "\n",
    "shuffled = {\n",
    "    3.0: [],\n",
    "    4.0: [],\n",
    "    5.0: [],\n",
    "    6.0: [],\n",
    "    7.0: [],\n",
    "    8.0: [],\n",
    "    \n",
    "}\n",
    "\n",
    "for i in [map1,map2,map3,map4]:\n",
    "    for j in i:\n",
    "        shuffled[j[0]].append(j[1])\n",
    "\n",
    "file= open('shuffled.pkl','ab')\n",
    "pickle.dump(shuffled,file)\n",
    "file.close()\n",
    "\n",
    "print(\"Data has been mapped. Now, run reducer.py to reduce the contents in shuffled.pkl file.\")"
   ]
  },
  {
   "cell_type": "code",
   "execution_count": 13,
   "metadata": {},
   "outputs": [
    {
     "name": "stdout",
     "output_type": "stream",
     "text": [
      "Average volatile acidity in different classes of wine: \n",
      "3.0 : 0.8845000000000001\n",
      "4.0 : 0.6939622641509429\n",
      "5.0 : 0.5767157584683352\n",
      "6.0 : 0.4973704866562018\n",
      "7.0 : 0.4039195979899498\n",
      "8.0 : 0.4233333333333334\n"
     ]
    }
   ],
   "source": [
    "file= open('shuffled.pkl','rb')\n",
    "shuffled = pickle.load(file)\n",
    "\n",
    "def reduce(shuffled_dict):\n",
    "    reduced = {}\n",
    "    \n",
    "    for i in shuffled_dict: \n",
    "        \n",
    "        reduced[i] = sum(shuffled_dict[i])/len(shuffled_dict[i])\n",
    "    \n",
    "    return reduced\n",
    "\n",
    "\n",
    "final = reduce(shuffled)\n",
    "\n",
    "print(\"Average volatile acidity in different classes of wine: \")\n",
    "for i in final:\n",
    "\n",
    "\tprint(i,':',final[i])"
   ]
  },
  {
   "cell_type": "code",
   "execution_count": null,
   "metadata": {},
   "outputs": [],
   "source": []
  }
 ],
 "metadata": {
  "kernelspec": {
   "display_name": "Python 3",
   "language": "python",
   "name": "python3"
  },
  "language_info": {
   "codemirror_mode": {
    "name": "ipython",
    "version": 3
   },
   "file_extension": ".py",
   "mimetype": "text/x-python",
   "name": "python",
   "nbconvert_exporter": "python",
   "pygments_lexer": "ipython3",
   "version": "3.7.6"
  }
 },
 "nbformat": 4,
 "nbformat_minor": 4
}
